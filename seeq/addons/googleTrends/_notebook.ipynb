{
 "cells": [
  {
   "cell_type": "code",
   "execution_count": 3,
   "id": "76ac781f",
   "metadata": {},
   "outputs": [
    {
     "data": {
      "text/html": [
       "\n",
       "        <div>\n",
       "            <h1>Google Trends in Seeq</h1><nl>\n",
       "            <h4>Enter search words or phrased, separated by commas</h4>\n",
       "        </div>\n",
       "        "
      ],
      "text/plain": [
       "<IPython.core.display.HTML object>"
      ]
     },
     "metadata": {},
     "output_type": "display_data"
    },
    {
     "data": {
      "application/vnd.jupyter.widget-view+json": {
       "model_id": "e447d436788a495d8d3069d992f3eca8",
       "version_major": 2,
       "version_minor": 0
      },
      "text/plain": [
       "Text(value='', description='Search Words:', placeholder='Search Google Trends')"
      ]
     },
     "metadata": {},
     "output_type": "display_data"
    },
    {
     "data": {
      "application/vnd.jupyter.widget-view+json": {
       "model_id": "991741402f3f40c1bc7cd81a98499e1c",
       "version_major": 2,
       "version_minor": 0
      },
      "text/plain": [
       "Button(button_style='success', description='GO!', style=ButtonStyle(), tooltip='Click me')"
      ]
     },
     "metadata": {},
     "output_type": "display_data"
    }
   ],
   "source": [
    "from seeq.addons import googleTrends\n",
    "from pytrends.request import TrendReq\n",
    "from urllib.parse import unquote\n",
    "pytrend = TrendReq()\n",
    "\n",
    "# get the url\n",
    "url = unquote(jupyter_notebook_url)\n",
    "wkb_id, wks_id = url.split('workbookId=')[-1].split('&worksheetId=')\n",
    "\n",
    "googleTrends.UI(pytrend, wkb_id, wks_id)"
   ]
  }
 ],
 "metadata": {
  "kernelspec": {
   "display_name": "Python 3 (ipykernel)",
   "language": "python",
   "name": "python3"
  },
  "language_info": {
   "codemirror_mode": {
    "name": "ipython",
    "version": 3
   },
   "file_extension": ".py",
   "mimetype": "text/x-python",
   "name": "python",
   "nbconvert_exporter": "python",
   "pygments_lexer": "ipython3",
   "version": "3.8.12"
  }
 },
 "nbformat": 4,
 "nbformat_minor": 5
}
